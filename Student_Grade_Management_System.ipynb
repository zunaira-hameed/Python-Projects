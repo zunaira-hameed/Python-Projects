{
  "nbformat": 4,
  "nbformat_minor": 0,
  "metadata": {
    "colab": {
      "provenance": []
    },
    "kernelspec": {
      "name": "python3",
      "display_name": "Python 3"
    },
    "language_info": {
      "name": "python"
    }
  },
  "cells": [
    {
      "cell_type": "markdown",
      "source": [
        "#**🧠 Project: Student Grade Management System**\n",
        "##**🎯 Objective:**\n",
        "\n",
        "Allow teachers/admins to manage students' grades — add, view, update, search, and delete student records — all saved in a file.\n",
        "\n",
        "##**✅ Features:**\n",
        "\n",
        "Add a new student with grades\n",
        "\n",
        "View all students\n",
        "\n",
        "Search student by name\n",
        "\n",
        "Update grades\n",
        "\n",
        "Delete student\n",
        "\n",
        "Calculate average, highest, lowest grade\n",
        "\n",
        "Exit"
      ],
      "metadata": {
        "id": "1KeMRq3nzxiX"
      }
    },
    {
      "cell_type": "code",
      "execution_count": 1,
      "metadata": {
        "id": "wHOwIYE9y8TB"
      },
      "outputs": [],
      "source": [
        "import json\n",
        "import os\n",
        "\n",
        "DATA_FILE = 'student_grades.json'\n",
        "\n",
        "# Create file if not exists\n",
        "if not os.path.exists(DATA_FILE):\n",
        "    with open(DATA_FILE, 'w') as f:\n",
        "        json.dump([], f)\n",
        "\n",
        "# Load students\n",
        "def load_students():\n",
        "    with open(DATA_FILE, 'r') as f:\n",
        "        return json.load(f)\n",
        "\n",
        "# Save students\n",
        "def save_students(students):\n",
        "    with open(DATA_FILE, 'w') as f:\n",
        "        json.dump(students, f, indent=4)\n",
        "\n",
        "# Add new student\n",
        "def add_student(name, grade):\n",
        "    students = load_students()\n",
        "    students.append({'name': name, 'grade': grade})\n",
        "    save_students(students)\n",
        "    print(\"✅ Student added successfully!\")\n",
        "\n",
        "# View all students\n",
        "def view_students():\n",
        "    students = load_students()\n",
        "    if not students:\n",
        "        print(\"📭 No student records found.\")\n",
        "    else:\n",
        "        print(\"\\n🎓 Student Records:\")\n",
        "        for idx, s in enumerate(students, start=1):\n",
        "            print(f\"{idx}. {s['name']} | Grade: {s['grade']}\")\n",
        "\n",
        "# Search student\n",
        "def search_student(name):\n",
        "    students = load_students()\n",
        "    found = [s for s in students if name.lower() in s['name'].lower()]\n",
        "    if found:\n",
        "        for s in found:\n",
        "            print(f\"{s['name']} | Grade: {s['grade']}\")\n",
        "    else:\n",
        "        print(\"❌ Student not found.\")\n",
        "\n",
        "# Update student grade\n",
        "def update_grade(name, new_grade):\n",
        "    students = load_students()\n",
        "    for student in students:\n",
        "        if student['name'].lower() == name.lower():\n",
        "            student['grade'] = new_grade\n",
        "            save_students(students)\n",
        "            print(\"✅ Grade updated.\")\n",
        "            return\n",
        "    print(\"❌ Student not found.\")\n",
        "\n",
        "# Delete student\n",
        "def delete_student(name):\n",
        "    students = load_students()\n",
        "    new_students = [s for s in students if s['name'].lower() != name.lower()]\n",
        "    if len(new_students) == len(students):\n",
        "        print(\"❌ Student not found.\")\n",
        "    else:\n",
        "        save_students(new_students)\n",
        "        print(\"🗑️ Student deleted.\")\n",
        "\n",
        "# Stats: avg, max, min\n",
        "def show_stats():\n",
        "    students = load_students()\n",
        "    if not students:\n",
        "        print(\"No data for stats.\")\n",
        "        return\n",
        "    grades = [s['grade'] for s in students]\n",
        "    print(f\"📊 Total Students: {len(grades)}\")\n",
        "    print(f\"🎯 Average Grade: {sum(grades)/len(grades):.2f}\")\n",
        "    print(f\"🏆 Highest Grade: {max(grades)}\")\n",
        "    print(f\"🥉 Lowest Grade: {min(grades)}\")\n"
      ]
    },
    {
      "cell_type": "code",
      "source": [
        "add_student(\"Ayesha\", 88)\n",
        "add_student(\"Ali\", 76)\n",
        "view_students()\n",
        "search_student(\"Ali\")\n",
        "update_grade(\"Ali\", 82)\n",
        "delete_student(\"Ayesha\")\n",
        "show_stats()\n",
        "from google.colab import files\n",
        "files.download('student_grades.json')"
      ],
      "metadata": {
        "colab": {
          "base_uri": "https://localhost:8080/",
          "height": 277
        },
        "id": "NOi96a05z3d7",
        "outputId": "8914f9f1-571c-4106-bed2-4aa3eb03f70b"
      },
      "execution_count": 3,
      "outputs": [
        {
          "output_type": "stream",
          "name": "stdout",
          "text": [
            "✅ Student added successfully!\n",
            "✅ Student added successfully!\n",
            "\n",
            "🎓 Student Records:\n",
            "1. Ali | Grade: 82\n",
            "2. Ayesha | Grade: 88\n",
            "3. Ali | Grade: 76\n",
            "Ali | Grade: 82\n",
            "Ali | Grade: 76\n",
            "✅ Grade updated.\n",
            "🗑️ Student deleted.\n",
            "📊 Total Students: 2\n",
            "🎯 Average Grade: 79.00\n",
            "🏆 Highest Grade: 82\n",
            "🥉 Lowest Grade: 76\n"
          ]
        },
        {
          "output_type": "display_data",
          "data": {
            "text/plain": [
              "<IPython.core.display.Javascript object>"
            ],
            "application/javascript": [
              "\n",
              "    async function download(id, filename, size) {\n",
              "      if (!google.colab.kernel.accessAllowed) {\n",
              "        return;\n",
              "      }\n",
              "      const div = document.createElement('div');\n",
              "      const label = document.createElement('label');\n",
              "      label.textContent = `Downloading \"${filename}\": `;\n",
              "      div.appendChild(label);\n",
              "      const progress = document.createElement('progress');\n",
              "      progress.max = size;\n",
              "      div.appendChild(progress);\n",
              "      document.body.appendChild(div);\n",
              "\n",
              "      const buffers = [];\n",
              "      let downloaded = 0;\n",
              "\n",
              "      const channel = await google.colab.kernel.comms.open(id);\n",
              "      // Send a message to notify the kernel that we're ready.\n",
              "      channel.send({})\n",
              "\n",
              "      for await (const message of channel.messages) {\n",
              "        // Send a message to notify the kernel that we're ready.\n",
              "        channel.send({})\n",
              "        if (message.buffers) {\n",
              "          for (const buffer of message.buffers) {\n",
              "            buffers.push(buffer);\n",
              "            downloaded += buffer.byteLength;\n",
              "            progress.value = downloaded;\n",
              "          }\n",
              "        }\n",
              "      }\n",
              "      const blob = new Blob(buffers, {type: 'application/binary'});\n",
              "      const a = document.createElement('a');\n",
              "      a.href = window.URL.createObjectURL(blob);\n",
              "      a.download = filename;\n",
              "      div.appendChild(a);\n",
              "      a.click();\n",
              "      div.remove();\n",
              "    }\n",
              "  "
            ]
          },
          "metadata": {}
        },
        {
          "output_type": "display_data",
          "data": {
            "text/plain": [
              "<IPython.core.display.Javascript object>"
            ],
            "application/javascript": [
              "download(\"download_5968a984-2871-4e2f-8ee4-e3ddc4a140b9\", \"student_grades.json\", 114)"
            ]
          },
          "metadata": {}
        }
      ]
    }
  ]
}