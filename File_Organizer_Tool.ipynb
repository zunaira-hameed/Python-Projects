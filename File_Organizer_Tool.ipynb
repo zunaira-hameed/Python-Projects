{
  "nbformat": 4,
  "nbformat_minor": 0,
  "metadata": {
    "colab": {
      "provenance": []
    },
    "kernelspec": {
      "name": "python3",
      "display_name": "Python 3"
    },
    "language_info": {
      "name": "python"
    }
  },
  "cells": [
    {
      "cell_type": "markdown",
      "source": [
        "#**✅ Project: File Organizer Tool**\n",
        "##**📌 Features:**\n",
        "\n",
        "Automatically organizes files in a directory based on file type\n",
        "\n",
        "Supports common file types: images, documents, videos, etc.\n",
        "\n",
        "Works in Colab (within its file system or Google Drive)"
      ],
      "metadata": {
        "id": "E-ZHyy83yQcl"
      }
    },
    {
      "cell_type": "code",
      "execution_count": null,
      "metadata": {
        "colab": {
          "base_uri": "https://localhost:8080/"
        },
        "id": "TNVEC5LmyNmP",
        "outputId": "68714a39-3e1d-4069-a1d5-cc6af67e84a9"
      },
      "outputs": [
        {
          "output_type": "stream",
          "name": "stdout",
          "text": [
            "✅ Dummy files created.\n"
          ]
        }
      ],
      "source": [
        "import os\n",
        "\n",
        "# Create some sample files with different extensions\n",
        "file_names = [\n",
        "    \"photo.jpg\", \"document.pdf\", \"music.mp3\",\n",
        "    \"notes.txt\", \"presentation.pptx\", \"script.py\",\n",
        "    \"video.mp4\", \"spreadsheet.xlsx\", \"unknown.xyz\"\n",
        "]\n",
        "\n",
        "# Create them in /content\n",
        "for name in file_names:\n",
        "    with open(os.path.join(\"/content\", name), 'w') as f:\n",
        "        f.write(f\"This is a dummy file named {name}\")\n",
        "print(\"✅ Dummy files created.\")\n"
      ]
    },
    {
      "cell_type": "code",
      "source": [
        "import shutil\n",
        "\n",
        "source_folder = \"/content\"\n",
        "\n",
        "file_types = {\n",
        "    'Images': ['.jpg', '.jpeg', '.png', '.gif'],\n",
        "    'Documents': ['.pdf', '.docx', '.txt', '.pptx', '.xls', '.xlsx'],\n",
        "    'Videos': ['.mp4', '.mov', '.avi'],\n",
        "    'Audio': ['.mp3', '.wav'],\n",
        "    'Archives': ['.zip', '.rar'],\n",
        "    'Scripts': ['.py', '.ipynb', '.js', '.html', '.css']\n",
        "}\n",
        "\n",
        "def organize_files(folder_path):\n",
        "    files_moved = 0\n",
        "    for filename in os.listdir(folder_path):\n",
        "        file_path = os.path.join(folder_path, filename)\n",
        "        if os.path.isfile(file_path):\n",
        "            ext = os.path.splitext(filename)[1].lower()\n",
        "            moved = False\n",
        "            for category, extensions in file_types.items():\n",
        "                if ext in extensions:\n",
        "                    dest_folder = os.path.join(folder_path, category)\n",
        "                    os.makedirs(dest_folder, exist_ok=True)\n",
        "                    shutil.move(file_path, os.path.join(dest_folder, filename))\n",
        "                    print(f\"✅ Moved {filename} → {category}/\")\n",
        "                    files_moved += 1\n",
        "                    moved = True\n",
        "                    break\n",
        "            if not moved:\n",
        "                others_folder = os.path.join(folder_path, 'Others')\n",
        "                os.makedirs(others_folder, exist_ok=True)\n",
        "                shutil.move(file_path, os.path.join(others_folder, filename))\n",
        "                print(f\"➡️ Moved {filename} → Others/\")\n",
        "                files_moved += 1\n",
        "    if files_moved == 0:\n",
        "        print(\"📂 No files found to organize.\")\n",
        "    else:\n",
        "        print(f\"\\n🎉 Organized {files_moved} files.\")\n",
        "\n",
        "# Run the function\n",
        "organize_files(source_folder)\n"
      ],
      "metadata": {
        "colab": {
          "base_uri": "https://localhost:8080/"
        },
        "id": "LfUApV4fyakC",
        "outputId": "0d3082d2-8df1-4cb5-c8ce-ea77acdd2d8e"
      },
      "execution_count": null,
      "outputs": [
        {
          "output_type": "stream",
          "name": "stdout",
          "text": [
            "✅ Moved presentation.pptx → Documents/\n",
            "✅ Moved video.mp4 → Videos/\n",
            "✅ Moved music.mp3 → Audio/\n",
            "✅ Moved photo.jpg → Images/\n",
            "✅ Moved document.pdf → Documents/\n",
            "➡️ Moved unknown.xyz → Others/\n",
            "✅ Moved notes.txt → Documents/\n",
            "✅ Moved spreadsheet.xlsx → Documents/\n",
            "✅ Moved script.py → Scripts/\n",
            "\n",
            "🎉 Organized 9 files.\n"
          ]
        }
      ]
    }
  ]
}