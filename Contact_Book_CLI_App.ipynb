{
  "nbformat": 4,
  "nbformat_minor": 0,
  "metadata": {
    "colab": {
      "provenance": []
    },
    "kernelspec": {
      "name": "python3",
      "display_name": "Python 3"
    },
    "language_info": {
      "name": "python"
    }
  },
  "cells": [
    {
      "cell_type": "markdown",
      "source": [
        "**29-7-2025 | Tuesday | Python Projects Part 1**"
      ],
      "metadata": {
        "id": "Uu9-Amkolmnp"
      }
    },
    {
      "cell_type": "markdown",
      "source": [
        "#**📘 Project Title: Contact Book CLI App**#\n",
        "🎯 **Objective:**\n",
        "\n",
        "To create a simple, user-friendly command-line application to store, retrieve, update, and delete contact information.\n",
        "\n",
        "✅ **Features:**\n",
        "\n",
        "Add new contact\n",
        "\n",
        "View all contacts\n",
        "\n",
        "Search contact by name\n",
        "\n",
        "Update contact\n",
        "\n",
        "Delete contact\n",
        "\n",
        "Exit program\n",
        "\n"
      ],
      "metadata": {
        "id": "9ClJyQ15mA3U"
      }
    },
    {
      "cell_type": "code",
      "execution_count": null,
      "metadata": {
        "colab": {
          "base_uri": "https://localhost:8080/",
          "height": 139
        },
        "id": "JVgNRr3VlffC",
        "outputId": "dbd84f6a-7508-4f84-afa9-635cf9269a65"
      },
      "outputs": [
        {
          "output_type": "stream",
          "name": "stdout",
          "text": [
            "✅ Contact added successfully!\n",
            "\n",
            "📋 Contact List:\n",
            "1. Zunaira | 03001234567 | zunaira@email.com\n",
            "Zunaira | 03001234567 | zunaira@email.com\n",
            "✅ Contact updated successfully!\n",
            "🗑️ Contact deleted successfully!\n"
          ]
        },
        {
          "output_type": "display_data",
          "data": {
            "text/plain": [
              "<IPython.core.display.Javascript object>"
            ],
            "application/javascript": [
              "\n",
              "    async function download(id, filename, size) {\n",
              "      if (!google.colab.kernel.accessAllowed) {\n",
              "        return;\n",
              "      }\n",
              "      const div = document.createElement('div');\n",
              "      const label = document.createElement('label');\n",
              "      label.textContent = `Downloading \"${filename}\": `;\n",
              "      div.appendChild(label);\n",
              "      const progress = document.createElement('progress');\n",
              "      progress.max = size;\n",
              "      div.appendChild(progress);\n",
              "      document.body.appendChild(div);\n",
              "\n",
              "      const buffers = [];\n",
              "      let downloaded = 0;\n",
              "\n",
              "      const channel = await google.colab.kernel.comms.open(id);\n",
              "      // Send a message to notify the kernel that we're ready.\n",
              "      channel.send({})\n",
              "\n",
              "      for await (const message of channel.messages) {\n",
              "        // Send a message to notify the kernel that we're ready.\n",
              "        channel.send({})\n",
              "        if (message.buffers) {\n",
              "          for (const buffer of message.buffers) {\n",
              "            buffers.push(buffer);\n",
              "            downloaded += buffer.byteLength;\n",
              "            progress.value = downloaded;\n",
              "          }\n",
              "        }\n",
              "      }\n",
              "      const blob = new Blob(buffers, {type: 'application/binary'});\n",
              "      const a = document.createElement('a');\n",
              "      a.href = window.URL.createObjectURL(blob);\n",
              "      a.download = filename;\n",
              "      div.appendChild(a);\n",
              "      a.click();\n",
              "      div.remove();\n",
              "    }\n",
              "  "
            ]
          },
          "metadata": {}
        },
        {
          "output_type": "display_data",
          "data": {
            "text/plain": [
              "<IPython.core.display.Javascript object>"
            ],
            "application/javascript": [
              "download(\"download_a305c277-5e27-4e87-926e-c92e1e2a80ae\", \"contacts.json\", 2)"
            ]
          },
          "metadata": {}
        }
      ],
      "source": [
        "import json\n",
        "\n",
        "# Use a file path in Colab's environment\n",
        "DATA_FILE = 'contacts.json'\n",
        "\n",
        "# Create the JSON file if it doesn't exist\n",
        "try:\n",
        "    with open(DATA_FILE, 'r') as f:\n",
        "        contacts = json.load(f)\n",
        "except (FileNotFoundError, json.JSONDecodeError):\n",
        "    contacts = []\n",
        "    with open(DATA_FILE, 'w') as f:\n",
        "        json.dump(contacts, f)\n",
        "\n",
        "# Load contacts from file\n",
        "def load_contacts():\n",
        "    with open(DATA_FILE, 'r') as f:\n",
        "        return json.load(f)\n",
        "\n",
        "# Save contacts to file\n",
        "def save_contacts(contacts):\n",
        "    with open(DATA_FILE, 'w') as f:\n",
        "        json.dump(contacts, f, indent=4)\n",
        "\n",
        "# Add a contact\n",
        "def add_contact(name, phone, email):\n",
        "    contacts = load_contacts()\n",
        "    contacts.append({'name': name, 'phone': phone, 'email': email})\n",
        "    save_contacts(contacts)\n",
        "    print(\"✅ Contact added successfully!\")\n",
        "\n",
        "# View all contacts\n",
        "def view_contacts():\n",
        "    contacts = load_contacts()\n",
        "    if not contacts:\n",
        "        print(\"📭 No contacts found.\")\n",
        "    else:\n",
        "        print(\"\\n📋 Contact List:\")\n",
        "        for idx, contact in enumerate(contacts, start=1):\n",
        "            print(f\"{idx}. {contact['name']} | {contact['phone']} | {contact['email']}\")\n",
        "\n",
        "# Search contact\n",
        "def search_contact(name):\n",
        "    contacts = load_contacts()\n",
        "    found = [c for c in contacts if name.lower() in c['name'].lower()]\n",
        "    if found:\n",
        "        for c in found:\n",
        "            print(f\"{c['name']} | {c['phone']} | {c['email']}\")\n",
        "    else:\n",
        "        print(\"❌ Contact not found.\")\n",
        "\n",
        "# Update contact\n",
        "def update_contact(name, new_phone, new_email):\n",
        "    contacts = load_contacts()\n",
        "    for contact in contacts:\n",
        "        if contact['name'].lower() == name.lower():\n",
        "            contact['phone'] = new_phone\n",
        "            contact['email'] = new_email\n",
        "            save_contacts(contacts)\n",
        "            print(\"✅ Contact updated successfully!\")\n",
        "            return\n",
        "    print(\"❌ Contact not found.\")\n",
        "\n",
        "# Delete contact\n",
        "def delete_contact(name):\n",
        "    contacts = load_contacts()\n",
        "    new_contacts = [c for c in contacts if c['name'].lower() != name.lower()]\n",
        "    if len(new_contacts) == len(contacts):\n",
        "        print(\"❌ Contact not found.\")\n",
        "    else:\n",
        "        save_contacts(new_contacts)\n",
        "        print(\"🗑️ Contact deleted successfully!\")\n",
        "add_contact(\"Zunaira\", \"03001234567\", \"zunaira@email.com\")\n",
        "view_contacts()\n",
        "search_contact(\"zunaira\")\n",
        "update_contact(\"zunaira\", \"03111234567\", \"newzunaira@email.com\")\n",
        "delete_contact(\"zunaira\")\n",
        "from google.colab import files\n",
        "files.download('contacts.json')\n"
      ]
    }
  ]
}