{
  "nbformat": 4,
  "nbformat_minor": 0,
  "metadata": {
    "colab": {
      "provenance": []
    },
    "kernelspec": {
      "name": "python3",
      "display_name": "Python 3"
    },
    "language_info": {
      "name": "python"
    }
  },
  "cells": [
    {
      "cell_type": "markdown",
      "source": [
        "**30-7-2025 | Wednesday | Python Projects Part 2**"
      ],
      "metadata": {
        "id": "KcgkVR-f7PS_"
      }
    },
    {
      "cell_type": "markdown",
      "source": [
        "#**📘 Project Title: Basic ATM Simulation**#\n",
        "🎯 **Objective:**\n",
        "\n",
        "To create a simple, user-friendly command-line application to store, retrieve, update, and delete contact information.\n",
        "\n",
        "✅ **Features:**\n",
        "\n",
        "Create an account\n",
        "\n",
        "Check balance\n",
        "\n",
        "Deposit money\n",
        "\n",
        "Withdraw money\n",
        "\n",
        "Exit\n",
        "\n"
      ],
      "metadata": {
        "id": "yRDp-p7D7n5P"
      }
    },
    {
      "cell_type": "code",
      "execution_count": null,
      "metadata": {
        "id": "HZzbajx_7I1p"
      },
      "outputs": [],
      "source": [
        "# Sample user account (username & pin) – can be extended\n",
        "accounts = {\n",
        "    \"zunaira\": {\n",
        "        \"pin\": \"1234\",\n",
        "        \"balance\": 1000\n",
        "    }\n",
        "}\n",
        "\n",
        "# Global variable to track current user\n",
        "current_user = None\n",
        "\n",
        "# Function to login\n",
        "def login(username, pin):\n",
        "    global current_user\n",
        "    if username in accounts and accounts[username]['pin'] == pin:\n",
        "        current_user = username\n",
        "        print(f\"✅ Login successful! Welcome, {username}.\\n\")\n",
        "    else:\n",
        "        print(\"❌ Invalid username or PIN.\\n\")\n",
        "\n",
        "# Function to check balance\n",
        "def check_balance():\n",
        "    if current_user:\n",
        "        balance = accounts[current_user]['balance']\n",
        "        print(f\"💰 Your current balance is: Rs {balance}\\n\")\n",
        "    else:\n",
        "        print(\"⚠️ Please login first.\\n\")\n",
        "\n",
        "# Function to deposit money\n",
        "def deposit(amount):\n",
        "    if current_user:\n",
        "        if amount > 0:\n",
        "            accounts[current_user]['balance'] += amount\n",
        "            print(f\"✅ Rs {amount} deposited successfully.\\n\")\n",
        "            check_balance()\n",
        "        else:\n",
        "            print(\"⚠️ Enter a positive amount.\\n\")\n",
        "    else:\n",
        "        print(\"⚠️ Please login first.\\n\")\n",
        "\n",
        "# Function to withdraw money\n",
        "def withdraw(amount):\n",
        "    if current_user:\n",
        "        if amount > 0 and amount <= accounts[current_user]['balance']:\n",
        "            accounts[current_user]['balance'] -= amount\n",
        "            print(f\"✅ Rs {amount} withdrawn successfully.\\n\")\n",
        "            check_balance()\n",
        "        else:\n",
        "            print(\"⚠️ Invalid amount or insufficient balance.\\n\")\n",
        "    else:\n",
        "        print(\"⚠️ Please login first.\\n\")\n",
        "\n",
        "# Function to logout\n",
        "def logout():\n",
        "    global current_user\n",
        "    if current_user:\n",
        "        print(f\"👋 Goodbye, {current_user}!\\n\")\n",
        "        current_user = None\n",
        "    else:\n",
        "        print(\"⚠️ No user is logged in.\\n\")\n"
      ]
    },
    {
      "cell_type": "code",
      "source": [
        "# 1. Login\n",
        "login(\"zunaira\", \"1234\")\n",
        "\n",
        "# 2. Check balance\n",
        "check_balance()\n",
        "\n",
        "# 3. Deposit Rs 500\n",
        "deposit(500)\n",
        "\n",
        "# 4. Withdraw Rs 300\n",
        "withdraw(300)\n",
        "\n",
        "# 5. Logout\n",
        "logout()\n"
      ],
      "metadata": {
        "colab": {
          "base_uri": "https://localhost:8080/"
        },
        "id": "LJOw6ajH79mb",
        "outputId": "a0471420-0a39-4859-ece6-efb8ebb9b80e"
      },
      "execution_count": null,
      "outputs": [
        {
          "output_type": "stream",
          "name": "stdout",
          "text": [
            "✅ Login successful! Welcome, zunaira.\n",
            "\n",
            "💰 Your current balance is: Rs 1000\n",
            "\n",
            "✅ Rs 500 deposited successfully.\n",
            "\n",
            "💰 Your current balance is: Rs 1500\n",
            "\n",
            "✅ Rs 300 withdrawn successfully.\n",
            "\n",
            "💰 Your current balance is: Rs 1200\n",
            "\n",
            "👋 Goodbye, zunaira!\n",
            "\n"
          ]
        }
      ]
    }
  ]
}